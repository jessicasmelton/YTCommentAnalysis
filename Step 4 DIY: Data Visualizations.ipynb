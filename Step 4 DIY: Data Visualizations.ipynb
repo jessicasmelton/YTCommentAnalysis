{
  "nbformat": 4,
  "nbformat_minor": 0,
  "metadata": {
    "colab": {
      "provenance": [],
      "authorship_tag": "ABX9TyOdU8SMKsoNHITQwLLZ1yDQ",
      "include_colab_link": true
    },
    "kernelspec": {
      "name": "python3",
      "display_name": "Python 3"
    },
    "language_info": {
      "name": "python"
    }
  },
  "cells": [
    {
      "cell_type": "markdown",
      "metadata": {
        "id": "view-in-github",
        "colab_type": "text"
      },
      "source": [
        "<a href=\"https://colab.research.google.com/github/jessicasmelton/YTCommentAnalysis/blob/main/Step%204%3A%20Data%20Visualizations.ipynb\" target=\"_parent\"><img src=\"https://colab.research.google.com/assets/colab-badge.svg\" alt=\"Open In Colab\"/></a>"
      ]
    },
    {
      "cell_type": "markdown",
      "source": [
        "**Data Visualizations**"
      ],
      "metadata": {
        "id": "kJjUX99yvt72"
      }
    },
    {
      "cell_type": "markdown",
      "source": [
        "**Sentiment Distribution Bar Chart:**\n",
        "\n",
        "This program generates a bar chart displaying the distribution of sentiment categories (positive, negative, and neutral) in YouTube comments. The sentiment analysis results are read from a CSV file, and the counts of each sentiment category are displayed both in the console and in a bar chart.\n",
        "\n",
        "\n",
        "---\n",
        "\n",
        "**Output**\n",
        "\n",
        "* Prints the number of positive, negative, and neutral comments.\n",
        "\n",
        "* A visual representation of the sentiment distribution in the comments. The bar chart shows the number of comments in each sentiment category (positive, negative, neutral).\n",
        "\n",
        "\n",
        "---\n",
        "**Notes**\n",
        "\n",
        "* The program assumes the CSV file contains a column named Sentiment. If the column is missing, the program will not function correctly.\n",
        "\n",
        "* You can customize the appearance of the bar chart by modifying parameters such as figsize, color, title, xlabel, and ylabel in the plt.figure and plt.plot functions.\n"
      ],
      "metadata": {
        "id": "bEeWWcx_Bj3y"
      }
    },
    {
      "cell_type": "code",
      "source": [
        "# Sentiment Distribution Bar Chart\n",
        "\n",
        "# Import necessary libraries\n",
        "import pandas as pd  # Library for data manipulation and analysis\n",
        "import matplotlib.pyplot as plt  # Library for plotting data\n",
        "\n",
        "# Load the data from the specified CSV file\n",
        "file_path = 'INSERT YOUR FILE PATH HERE.csv'  # Replace with the correct path if needed\n",
        "df = pd.read_csv(file_path)\n",
        "\n",
        "# Ensure the 'Sentiment' column is properly categorized and count the number of each sentiment\n",
        "sentiment_counts = df['Sentiment'].value_counts()\n",
        "\n",
        "# Display the counts of each sentiment category\n",
        "print(\"Number of Positive Comments:\", sentiment_counts.get('Positive', 0))\n",
        "print(\"Number of Negative Comments:\", sentiment_counts.get('Negative', 0))\n",
        "print(\"Number of Neutral Comments:\", sentiment_counts.get('Neutral', 0))\n",
        "\n",
        "# Create a bar chart for sentiment distribution\n",
        "plt.figure(figsize=(10, 6))\n",
        "sentiment_counts.plot(kind='bar', color=['green', 'gray', 'red'])  # Create bar chart with specified colors\n",
        "plt.title('Sentiment Distribution of All Comments')  # Set the title of the chart\n",
        "plt.xlabel('Sentiment')  # Set the x-axis label\n",
        "plt.ylabel('Number of Comments')  # Set the y-axis label\n",
        "plt.xticks(rotation=0)  # Set the rotation of x-axis labels\n",
        "plt.show()  # Display the chart"
      ],
      "metadata": {
        "id": "doPAJqiNBzpH"
      },
      "execution_count": null,
      "outputs": []
    },
    {
      "cell_type": "markdown",
      "source": [
        "**Sentiment Polarity Over Time Line Chart:**\n",
        "\n",
        "This program generates a line chart showing the average sentiment polarity of YouTube comments over time. The sentiment analysis results are read from a CSV file, and the average sentiment polarity is calculated for each month. The resulting data is visualized in a line chart to observe trends over time.\n",
        "\n",
        "\n",
        "---\n",
        "\n",
        "**Output**\n",
        "\n",
        "* A visual representation of the average sentiment polarity of comments over time. The line chart shows trends in sentiment polarity, with data points representing the average polarity for each month.\n",
        "\n",
        "* No specific console output, as the focus is on the visual representation of the data.\n",
        "\n",
        "\n",
        "---\n",
        "\n",
        "**Notes**\n",
        "\n",
        "* The program assumes the CSV file contains columns named Date Published and Polarity. If these columns are missing, the program will not function correctly.\n",
        "\n",
        "* You can customize the appearance of the line chart by modifying parameters such as figsize, title, xlabel, ylabel, and grid in the plt.figure and plt.plot functions."
      ],
      "metadata": {
        "id": "0t8U3bsNDQMr"
      }
    },
    {
      "cell_type": "code",
      "source": [
        "# Sentiment Polarity Over Time Line Chart\n",
        "\n",
        "# Import necessary libraries\n",
        "import pandas as pd  # Library for data manipulation and analysis\n",
        "import matplotlib.pyplot as plt  # Library for plotting data\n",
        "\n",
        "# Load the data from the specified CSV file\n",
        "file_path = 'INSERT YOUR FILE PATH HERE.csv'  # Replace with the correct path if needed\n",
        "df = pd.read_csv(file_path)\n",
        "\n",
        "# Ensure the 'Date Published' column is in datetime format\n",
        "df['Date Published'] = pd.to_datetime(df['Date Published'])\n",
        "\n",
        "# Extract the month and year for each comment\n",
        "df['Month'] = df['Date Published'].dt.to_period('M')\n",
        "\n",
        "# Calculate the average sentiment polarity for each month\n",
        "monthly_sentiment = df.groupby('Month')['Polarity'].mean()\n",
        "\n",
        "# Create the line chart to visualize average sentiment polarity over time\n",
        "plt.figure(figsize=(12, 6))  # Set the size of the figure\n",
        "monthly_sentiment.plot(kind='line', marker='o')  # Create a line plot with markers for each data point\n",
        "plt.title('Average Sentiment Polarity Over Time')  # Set the title of the chart\n",
        "plt.xlabel('Month')  # Set the x-axis label\n",
        "plt.ylabel('Average Sentiment Polarity')  # Set the y-axis label\n",
        "plt.grid(True)  # Enable grid for better readability\n",
        "plt.show()  # Display the chart"
      ],
      "metadata": {
        "id": "4LrfPhVJDQlR"
      },
      "execution_count": null,
      "outputs": []
    },
    {
      "cell_type": "markdown",
      "source": [
        "**Text Cloud of Frequent Words:**\n",
        "\n",
        "This program generates a word cloud of the most frequent words in YouTube comments. A word cloud visually represents the frequency of words in a text, with more frequent words displayed in larger font sizes. This visualization helps identify common themes and keywords in the comments.\n",
        "\n",
        "\n",
        "---\n",
        "\n",
        "\n",
        "**Output**\n",
        "\n",
        "* A visual representation of the most frequent words in the comments. Words that appear more frequently in the comments are displayed in larger font sizes.\n",
        "\n",
        "---\n",
        "\n",
        "**Notes**\n",
        "\n",
        "* The program assumes the CSV file contains a column named Comment Text. If the column is missing, the program will not function correctly.\n",
        "\n",
        "* You can customize the appearance of the word cloud by modifying parameters such as width, height, and background_color in the WordCloud function."
      ],
      "metadata": {
        "id": "jXh43RXEwHb4"
      }
    },
    {
      "cell_type": "code",
      "source": [
        "# Text Cloud of Frequent Words\n",
        "\n",
        "# Import necessary libraries\n",
        "import pandas as pd  # Library for data manipulation and analysis\n",
        "from wordcloud import WordCloud  # Library for generating word clouds\n",
        "import matplotlib.pyplot as plt  # Library for plotting data\n",
        "\n",
        "# Load the data from the specified CSV file\n",
        "file_path = 'INSERT YOUR FILE PATH HERE.csv'  # Replace with the correct path if needed\n",
        "df = pd.read_csv(file_path)\n",
        "\n",
        "# Concatenate all comments into a single string\n",
        "all_comments_text = ' '.join(df['Comment Text'])\n",
        "\n",
        "# Generate the word cloud from the concatenated comments\n",
        "wordcloud = WordCloud(width=800, height=400, background_color='white').generate(all_comments_text)\n",
        "\n",
        "# Display the generated word cloud\n",
        "plt.figure(figsize=(10, 5))\n",
        "plt.imshow(wordcloud, interpolation='bilinear')  # Display the word cloud with bilinear interpolation\n",
        "plt.axis('off')  # Hide the axes\n",
        "plt.title('Most Frequent Words in All Comments')  # Add a title to the plot\n",
        "plt.show()  # Show the plot"
      ],
      "metadata": {
        "id": "9g0BkTiCw0GN"
      },
      "execution_count": null,
      "outputs": []
    }
  ]
}
